{
 "cells": [
  {
   "cell_type": "code",
   "execution_count": 1,
   "metadata": {},
   "outputs": [],
   "source": [
    "from statsbombpy import sb\n",
    "import pandas as pd\n",
    "import numpy as np\n",
    "import matplotlib.pyplot as plt\n",
    "import warnings\n",
    "import statsmodels.api as sm\n",
    "from sklearn.model_selection import train_test_split\n",
    "from sklearn.metrics import accuracy_score, classification_report, confusion_matrix\n",
    "from data_pre import get_df, data_prep, one_hot, evaluation\n",
    "from matplotlib.ticker import FuncFormatter\n",
    "from sklearn.linear_model import LogisticRegression\n",
    "\n",
    "# Suppress all warnings\n",
    "warnings.filterwarnings(\"ignore\")"
   ]
  },
  {
   "cell_type": "code",
   "execution_count": 2,
   "metadata": {},
   "outputs": [],
   "source": [
    " #Import Data from statsbombpy\n",
    "competitions = sb.competitions()\n",
    "fifa_2022 = sb.matches(competition_id=43, season_id=106)\n",
    "\n",
    "#Grouped events\n",
    "events_fifa = sb.competition_events(\n",
    "    country=\"International\",\n",
    "    division='FIFA World Cup',\n",
    "    season=\"2022\",\n",
    "    gender=\"male\"\n",
    ")"
   ]
  },
  {
   "cell_type": "code",
   "execution_count": 3,
   "metadata": {},
   "outputs": [
    {
     "data": {
      "text/plain": [
       "(234652, 111)"
      ]
     },
     "execution_count": 3,
     "metadata": {},
     "output_type": "execute_result"
    }
   ],
   "source": [
    "events_fifa.shape"
   ]
  },
  {
   "cell_type": "code",
   "execution_count": 4,
   "metadata": {},
   "outputs": [],
   "source": [
    "risk_df = get_df(events_fifa)"
   ]
  },
  {
   "cell_type": "code",
   "execution_count": 5,
   "metadata": {},
   "outputs": [
    {
     "data": {
      "text/plain": [
       "(64415, 7)"
      ]
     },
     "execution_count": 5,
     "metadata": {},
     "output_type": "execute_result"
    }
   ],
   "source": [
    "risk_df.shape"
   ]
  },
  {
   "cell_type": "code",
   "execution_count": 6,
   "metadata": {},
   "outputs": [
    {
     "name": "stdout",
     "output_type": "stream",
     "text": [
      "Number of risky passes: 10,952\n",
      "Number of not risky passes: 53,428\n"
     ]
    }
   ],
   "source": [
    "risk_df = data_prep(risk_df)\n",
    "#risk_df = one_hot(risk_df)"
   ]
  },
  {
   "cell_type": "code",
   "execution_count": 7,
   "metadata": {},
   "outputs": [],
   "source": [
    "risk_df = one_hot(risk_df)"
   ]
  },
  {
   "cell_type": "code",
   "execution_count": 8,
   "metadata": {},
   "outputs": [
    {
     "data": {
      "text/html": [
       "<div>\n",
       "<style scoped>\n",
       "    .dataframe tbody tr th:only-of-type {\n",
       "        vertical-align: middle;\n",
       "    }\n",
       "\n",
       "    .dataframe tbody tr th {\n",
       "        vertical-align: top;\n",
       "    }\n",
       "\n",
       "    .dataframe thead th {\n",
       "        text-align: right;\n",
       "    }\n",
       "</style>\n",
       "<table border=\"1\" class=\"dataframe\">\n",
       "  <thead>\n",
       "    <tr style=\"text-align: right;\">\n",
       "      <th></th>\n",
       "      <th>pass_outcome</th>\n",
       "      <th>pass_length</th>\n",
       "      <th>pass_angle</th>\n",
       "      <th>pass_height_Ground Pass</th>\n",
       "      <th>pass_height_High Pass</th>\n",
       "      <th>pass_height_Low Pass</th>\n",
       "      <th>pass_body_part_Drop Kick</th>\n",
       "      <th>pass_body_part_Head</th>\n",
       "      <th>pass_body_part_Keeper Arm</th>\n",
       "      <th>pass_body_part_Left Foot</th>\n",
       "      <th>pass_body_part_No Touch</th>\n",
       "      <th>pass_body_part_Other</th>\n",
       "      <th>pass_body_part_Right Foot</th>\n",
       "    </tr>\n",
       "  </thead>\n",
       "  <tbody>\n",
       "    <tr>\n",
       "      <th>pass_outcome</th>\n",
       "      <td>1.000000</td>\n",
       "      <td>0.257604</td>\n",
       "      <td>-0.007617</td>\n",
       "      <td>-0.486462</td>\n",
       "      <td>0.452632</td>\n",
       "      <td>0.154454</td>\n",
       "      <td>0.077928</td>\n",
       "      <td>0.121712</td>\n",
       "      <td>-0.039168</td>\n",
       "      <td>0.015330</td>\n",
       "      <td>0.008254</td>\n",
       "      <td>-0.002279</td>\n",
       "      <td>-0.063495</td>\n",
       "    </tr>\n",
       "    <tr>\n",
       "      <th>pass_length</th>\n",
       "      <td>0.257604</td>\n",
       "      <td>1.000000</td>\n",
       "      <td>-0.008769</td>\n",
       "      <td>-0.452287</td>\n",
       "      <td>0.588993</td>\n",
       "      <td>-0.090577</td>\n",
       "      <td>0.169439</td>\n",
       "      <td>-0.060487</td>\n",
       "      <td>0.014443</td>\n",
       "      <td>-0.012352</td>\n",
       "      <td>-0.022401</td>\n",
       "      <td>-0.045592</td>\n",
       "      <td>0.022450</td>\n",
       "    </tr>\n",
       "    <tr>\n",
       "      <th>pass_angle</th>\n",
       "      <td>-0.007617</td>\n",
       "      <td>-0.008769</td>\n",
       "      <td>1.000000</td>\n",
       "      <td>0.011482</td>\n",
       "      <td>-0.009055</td>\n",
       "      <td>-0.005913</td>\n",
       "      <td>-0.000105</td>\n",
       "      <td>-0.003568</td>\n",
       "      <td>-0.005312</td>\n",
       "      <td>0.143356</td>\n",
       "      <td>0.003547</td>\n",
       "      <td>-0.003702</td>\n",
       "      <td>-0.135063</td>\n",
       "    </tr>\n",
       "    <tr>\n",
       "      <th>pass_height_Ground Pass</th>\n",
       "      <td>-0.486462</td>\n",
       "      <td>-0.452287</td>\n",
       "      <td>0.011482</td>\n",
       "      <td>1.000000</td>\n",
       "      <td>-0.788283</td>\n",
       "      <td>-0.515499</td>\n",
       "      <td>-0.092082</td>\n",
       "      <td>-0.358261</td>\n",
       "      <td>0.012973</td>\n",
       "      <td>0.026676</td>\n",
       "      <td>0.015668</td>\n",
       "      <td>-0.097039</td>\n",
       "      <td>0.133222</td>\n",
       "    </tr>\n",
       "    <tr>\n",
       "      <th>pass_height_High Pass</th>\n",
       "      <td>0.452632</td>\n",
       "      <td>0.588993</td>\n",
       "      <td>-0.009055</td>\n",
       "      <td>-0.788283</td>\n",
       "      <td>1.000000</td>\n",
       "      <td>-0.120897</td>\n",
       "      <td>0.111687</td>\n",
       "      <td>0.234579</td>\n",
       "      <td>-0.020627</td>\n",
       "      <td>-0.010967</td>\n",
       "      <td>-0.014879</td>\n",
       "      <td>-0.005041</td>\n",
       "      <td>-0.087633</td>\n",
       "    </tr>\n",
       "    <tr>\n",
       "      <th>pass_height_Low Pass</th>\n",
       "      <td>0.154454</td>\n",
       "      <td>-0.090577</td>\n",
       "      <td>-0.005913</td>\n",
       "      <td>-0.515499</td>\n",
       "      <td>-0.120897</td>\n",
       "      <td>1.000000</td>\n",
       "      <td>-0.006984</td>\n",
       "      <td>0.251295</td>\n",
       "      <td>0.007798</td>\n",
       "      <td>-0.027762</td>\n",
       "      <td>-0.004556</td>\n",
       "      <td>0.163571</td>\n",
       "      <td>-0.092883</td>\n",
       "    </tr>\n",
       "    <tr>\n",
       "      <th>pass_body_part_Drop Kick</th>\n",
       "      <td>0.077928</td>\n",
       "      <td>0.169439</td>\n",
       "      <td>-0.000105</td>\n",
       "      <td>-0.092082</td>\n",
       "      <td>0.111687</td>\n",
       "      <td>-0.006984</td>\n",
       "      <td>1.000000</td>\n",
       "      <td>-0.009815</td>\n",
       "      <td>-0.004645</td>\n",
       "      <td>-0.033251</td>\n",
       "      <td>-0.001738</td>\n",
       "      <td>-0.003014</td>\n",
       "      <td>-0.067364</td>\n",
       "    </tr>\n",
       "    <tr>\n",
       "      <th>pass_body_part_Head</th>\n",
       "      <td>0.121712</td>\n",
       "      <td>-0.060487</td>\n",
       "      <td>-0.003568</td>\n",
       "      <td>-0.358261</td>\n",
       "      <td>0.234579</td>\n",
       "      <td>0.251295</td>\n",
       "      <td>-0.009815</td>\n",
       "      <td>1.000000</td>\n",
       "      <td>-0.018073</td>\n",
       "      <td>-0.129368</td>\n",
       "      <td>-0.006762</td>\n",
       "      <td>-0.011726</td>\n",
       "      <td>-0.262093</td>\n",
       "    </tr>\n",
       "    <tr>\n",
       "      <th>pass_body_part_Keeper Arm</th>\n",
       "      <td>-0.039168</td>\n",
       "      <td>0.014443</td>\n",
       "      <td>-0.005312</td>\n",
       "      <td>0.012973</td>\n",
       "      <td>-0.020627</td>\n",
       "      <td>0.007798</td>\n",
       "      <td>-0.004645</td>\n",
       "      <td>-0.018073</td>\n",
       "      <td>1.000000</td>\n",
       "      <td>-0.061227</td>\n",
       "      <td>-0.003200</td>\n",
       "      <td>-0.005550</td>\n",
       "      <td>-0.124043</td>\n",
       "    </tr>\n",
       "    <tr>\n",
       "      <th>pass_body_part_Left Foot</th>\n",
       "      <td>0.015330</td>\n",
       "      <td>-0.012352</td>\n",
       "      <td>0.143356</td>\n",
       "      <td>0.026676</td>\n",
       "      <td>-0.010967</td>\n",
       "      <td>-0.027762</td>\n",
       "      <td>-0.033251</td>\n",
       "      <td>-0.129368</td>\n",
       "      <td>-0.061227</td>\n",
       "      <td>1.000000</td>\n",
       "      <td>-0.022909</td>\n",
       "      <td>-0.039727</td>\n",
       "      <td>-0.887921</td>\n",
       "    </tr>\n",
       "    <tr>\n",
       "      <th>pass_body_part_No Touch</th>\n",
       "      <td>0.008254</td>\n",
       "      <td>-0.022401</td>\n",
       "      <td>0.003547</td>\n",
       "      <td>0.015668</td>\n",
       "      <td>-0.014879</td>\n",
       "      <td>-0.004556</td>\n",
       "      <td>-0.001738</td>\n",
       "      <td>-0.006762</td>\n",
       "      <td>-0.003200</td>\n",
       "      <td>-0.022909</td>\n",
       "      <td>1.000000</td>\n",
       "      <td>-0.002077</td>\n",
       "      <td>-0.046412</td>\n",
       "    </tr>\n",
       "    <tr>\n",
       "      <th>pass_body_part_Other</th>\n",
       "      <td>-0.002279</td>\n",
       "      <td>-0.045592</td>\n",
       "      <td>-0.003702</td>\n",
       "      <td>-0.097039</td>\n",
       "      <td>-0.005041</td>\n",
       "      <td>0.163571</td>\n",
       "      <td>-0.003014</td>\n",
       "      <td>-0.011726</td>\n",
       "      <td>-0.005550</td>\n",
       "      <td>-0.039727</td>\n",
       "      <td>-0.002077</td>\n",
       "      <td>1.000000</td>\n",
       "      <td>-0.080485</td>\n",
       "    </tr>\n",
       "    <tr>\n",
       "      <th>pass_body_part_Right Foot</th>\n",
       "      <td>-0.063495</td>\n",
       "      <td>0.022450</td>\n",
       "      <td>-0.135063</td>\n",
       "      <td>0.133222</td>\n",
       "      <td>-0.087633</td>\n",
       "      <td>-0.092883</td>\n",
       "      <td>-0.067364</td>\n",
       "      <td>-0.262093</td>\n",
       "      <td>-0.124043</td>\n",
       "      <td>-0.887921</td>\n",
       "      <td>-0.046412</td>\n",
       "      <td>-0.080485</td>\n",
       "      <td>1.000000</td>\n",
       "    </tr>\n",
       "  </tbody>\n",
       "</table>\n",
       "</div>"
      ],
      "text/plain": [
       "                           pass_outcome  pass_length  pass_angle  \\\n",
       "pass_outcome                   1.000000     0.257604   -0.007617   \n",
       "pass_length                    0.257604     1.000000   -0.008769   \n",
       "pass_angle                    -0.007617    -0.008769    1.000000   \n",
       "pass_height_Ground Pass       -0.486462    -0.452287    0.011482   \n",
       "pass_height_High Pass          0.452632     0.588993   -0.009055   \n",
       "pass_height_Low Pass           0.154454    -0.090577   -0.005913   \n",
       "pass_body_part_Drop Kick       0.077928     0.169439   -0.000105   \n",
       "pass_body_part_Head            0.121712    -0.060487   -0.003568   \n",
       "pass_body_part_Keeper Arm     -0.039168     0.014443   -0.005312   \n",
       "pass_body_part_Left Foot       0.015330    -0.012352    0.143356   \n",
       "pass_body_part_No Touch        0.008254    -0.022401    0.003547   \n",
       "pass_body_part_Other          -0.002279    -0.045592   -0.003702   \n",
       "pass_body_part_Right Foot     -0.063495     0.022450   -0.135063   \n",
       "\n",
       "                           pass_height_Ground Pass  pass_height_High Pass  \\\n",
       "pass_outcome                             -0.486462               0.452632   \n",
       "pass_length                              -0.452287               0.588993   \n",
       "pass_angle                                0.011482              -0.009055   \n",
       "pass_height_Ground Pass                   1.000000              -0.788283   \n",
       "pass_height_High Pass                    -0.788283               1.000000   \n",
       "pass_height_Low Pass                     -0.515499              -0.120897   \n",
       "pass_body_part_Drop Kick                 -0.092082               0.111687   \n",
       "pass_body_part_Head                      -0.358261               0.234579   \n",
       "pass_body_part_Keeper Arm                 0.012973              -0.020627   \n",
       "pass_body_part_Left Foot                  0.026676              -0.010967   \n",
       "pass_body_part_No Touch                   0.015668              -0.014879   \n",
       "pass_body_part_Other                     -0.097039              -0.005041   \n",
       "pass_body_part_Right Foot                 0.133222              -0.087633   \n",
       "\n",
       "                           pass_height_Low Pass  pass_body_part_Drop Kick  \\\n",
       "pass_outcome                           0.154454                  0.077928   \n",
       "pass_length                           -0.090577                  0.169439   \n",
       "pass_angle                            -0.005913                 -0.000105   \n",
       "pass_height_Ground Pass               -0.515499                 -0.092082   \n",
       "pass_height_High Pass                 -0.120897                  0.111687   \n",
       "pass_height_Low Pass                   1.000000                 -0.006984   \n",
       "pass_body_part_Drop Kick              -0.006984                  1.000000   \n",
       "pass_body_part_Head                    0.251295                 -0.009815   \n",
       "pass_body_part_Keeper Arm              0.007798                 -0.004645   \n",
       "pass_body_part_Left Foot              -0.027762                 -0.033251   \n",
       "pass_body_part_No Touch               -0.004556                 -0.001738   \n",
       "pass_body_part_Other                   0.163571                 -0.003014   \n",
       "pass_body_part_Right Foot             -0.092883                 -0.067364   \n",
       "\n",
       "                           pass_body_part_Head  pass_body_part_Keeper Arm  \\\n",
       "pass_outcome                          0.121712                  -0.039168   \n",
       "pass_length                          -0.060487                   0.014443   \n",
       "pass_angle                           -0.003568                  -0.005312   \n",
       "pass_height_Ground Pass              -0.358261                   0.012973   \n",
       "pass_height_High Pass                 0.234579                  -0.020627   \n",
       "pass_height_Low Pass                  0.251295                   0.007798   \n",
       "pass_body_part_Drop Kick             -0.009815                  -0.004645   \n",
       "pass_body_part_Head                   1.000000                  -0.018073   \n",
       "pass_body_part_Keeper Arm            -0.018073                   1.000000   \n",
       "pass_body_part_Left Foot             -0.129368                  -0.061227   \n",
       "pass_body_part_No Touch              -0.006762                  -0.003200   \n",
       "pass_body_part_Other                 -0.011726                  -0.005550   \n",
       "pass_body_part_Right Foot            -0.262093                  -0.124043   \n",
       "\n",
       "                           pass_body_part_Left Foot  pass_body_part_No Touch  \\\n",
       "pass_outcome                               0.015330                 0.008254   \n",
       "pass_length                               -0.012352                -0.022401   \n",
       "pass_angle                                 0.143356                 0.003547   \n",
       "pass_height_Ground Pass                    0.026676                 0.015668   \n",
       "pass_height_High Pass                     -0.010967                -0.014879   \n",
       "pass_height_Low Pass                      -0.027762                -0.004556   \n",
       "pass_body_part_Drop Kick                  -0.033251                -0.001738   \n",
       "pass_body_part_Head                       -0.129368                -0.006762   \n",
       "pass_body_part_Keeper Arm                 -0.061227                -0.003200   \n",
       "pass_body_part_Left Foot                   1.000000                -0.022909   \n",
       "pass_body_part_No Touch                   -0.022909                 1.000000   \n",
       "pass_body_part_Other                      -0.039727                -0.002077   \n",
       "pass_body_part_Right Foot                 -0.887921                -0.046412   \n",
       "\n",
       "                           pass_body_part_Other  pass_body_part_Right Foot  \n",
       "pass_outcome                          -0.002279                  -0.063495  \n",
       "pass_length                           -0.045592                   0.022450  \n",
       "pass_angle                            -0.003702                  -0.135063  \n",
       "pass_height_Ground Pass               -0.097039                   0.133222  \n",
       "pass_height_High Pass                 -0.005041                  -0.087633  \n",
       "pass_height_Low Pass                   0.163571                  -0.092883  \n",
       "pass_body_part_Drop Kick              -0.003014                  -0.067364  \n",
       "pass_body_part_Head                   -0.011726                  -0.262093  \n",
       "pass_body_part_Keeper Arm             -0.005550                  -0.124043  \n",
       "pass_body_part_Left Foot              -0.039727                  -0.887921  \n",
       "pass_body_part_No Touch               -0.002077                  -0.046412  \n",
       "pass_body_part_Other                   1.000000                  -0.080485  \n",
       "pass_body_part_Right Foot             -0.080485                   1.000000  "
      ]
     },
     "execution_count": 8,
     "metadata": {},
     "output_type": "execute_result"
    }
   ],
   "source": [
    "risk_df.corr()"
   ]
  },
  {
   "cell_type": "code",
   "execution_count": 9,
   "metadata": {},
   "outputs": [
    {
     "name": "stdout",
     "output_type": "stream",
     "text": [
      "Top correlated column pairs:\n",
      "pass_outcome              pass_outcome                1.0\n",
      "pass_length               pass_length                 1.0\n",
      "pass_body_part_Other      pass_body_part_Other        1.0\n",
      "pass_body_part_No Touch   pass_body_part_No Touch     1.0\n",
      "pass_body_part_Left Foot  pass_body_part_Left Foot    1.0\n",
      "dtype: float64\n"
     ]
    }
   ],
   "source": [
    "# Find the correlation between the columns\n",
    "correlation_matrix = risk_df.corr()\n",
    "\n",
    "# Find the highest correlated columns\n",
    "highest_correlation = correlation_matrix.unstack().sort_values(ascending=False)\n",
    "\n",
    "# Print the top correlation pairs (excluding self-correlation and duplicates)\n",
    "top_correlation_pairs = highest_correlation[(highest_correlation < 2) & (highest_correlation > 0)].head()\n",
    "print(\"Top correlated column pairs:\")\n",
    "print(top_correlation_pairs)"
   ]
  },
  {
   "cell_type": "code",
   "execution_count": 10,
   "metadata": {},
   "outputs": [],
   "source": [
    "#Drop the cols with multicolinearity\n",
    "risk_df_multicol = risk_df.drop(columns=['pass_body_part_Keeper Arm', 'pass_height_High Pass','pass_body_part_Other' ])\n"
   ]
  },
  {
   "cell_type": "markdown",
   "metadata": {},
   "source": [
    "Logit Model"
   ]
  },
  {
   "cell_type": "code",
   "execution_count": 11,
   "metadata": {},
   "outputs": [],
   "source": [
    "# Extract the dependent variable (y) and explanatory variables (X)\n",
    "y = risk_df_multicol.iloc[:, 0]\n",
    "X = risk_df_multicol.iloc[:, 1:]\n",
    "\n",
    "# Add a constant term to the explanatory variables for the intercept\n",
    "X = sm.add_constant(X)"
   ]
  },
  {
   "cell_type": "code",
   "execution_count": 12,
   "metadata": {},
   "outputs": [
    {
     "name": "stdout",
     "output_type": "stream",
     "text": [
      "Optimization terminated successfully.\n",
      "         Current function value: 0.348660\n",
      "         Iterations 7\n"
     ]
    }
   ],
   "source": [
    "# Fit a logistic regression model (logit)\n",
    "logit_model = sm.Logit(y, X)\n",
    "logit_result = logit_model.fit()"
   ]
  },
  {
   "cell_type": "code",
   "execution_count": 13,
   "metadata": {},
   "outputs": [
    {
     "name": "stdout",
     "output_type": "stream",
     "text": [
      "Logit Regression Results:\n",
      "                           Logit Regression Results                           \n",
      "==============================================================================\n",
      "Dep. Variable:           pass_outcome   No. Observations:                64380\n",
      "Model:                          Logit   Df Residuals:                    64370\n",
      "Method:                           MLE   Df Model:                            9\n",
      "Date:                Thu, 04 Apr 2024   Pseudo R-squ.:                  0.2355\n",
      "Time:                        13:09:53   Log-Likelihood:                -22447.\n",
      "converged:                       True   LL-Null:                       -29362.\n",
      "Covariance Type:            nonrobust   LLR p-value:                     0.000\n",
      "=============================================================================================\n",
      "                                coef    std err          z      P>|z|      [0.025      0.975]\n",
      "---------------------------------------------------------------------------------------------\n",
      "const                        -1.3172      0.169     -7.791      0.000      -1.649      -0.986\n",
      "pass_length                  -0.0052      0.001     -5.669      0.000      -0.007      -0.003\n",
      "pass_angle                   -0.0130      0.008     -1.533      0.125      -0.030       0.004\n",
      "pass_height_Ground Pass      -3.0327      0.036    -83.149      0.000      -3.104      -2.961\n",
      "pass_height_Low Pass         -0.8008      0.042    -18.847      0.000      -0.884      -0.718\n",
      "pass_body_part_Drop Kick      2.8276      0.249     11.378      0.000       2.340       3.315\n",
      "pass_body_part_Head           1.3270      0.170      7.796      0.000       0.993       1.661\n",
      "pass_body_part_Left Foot      1.9622      0.166     11.788      0.000       1.636       2.288\n",
      "pass_body_part_No Touch       3.2613      0.314     10.385      0.000       2.646       3.877\n",
      "pass_body_part_Right Foot     1.8182      0.166     10.966      0.000       1.493       2.143\n",
      "=============================================================================================\n"
     ]
    }
   ],
   "source": [
    "print(\"Logit Regression Results:\")\n",
    "print(logit_result.summary())"
   ]
  },
  {
   "cell_type": "markdown",
   "metadata": {},
   "source": [
    "Logit Model - Prediction - Classification"
   ]
  },
  {
   "cell_type": "code",
   "execution_count": 18,
   "metadata": {},
   "outputs": [],
   "source": [
    "# Splitting the data into training and testing sets\n",
    "X_train, X_test, y_train, y_test = train_test_split(X, y, test_size=0.4, random_state=42)\n",
    "\n",
    "# Splitting the data into validation test set\n",
    "X_train_val, X_test_val, y_train_val, y_test_val = train_test_split(X_test, y_test, test_size=0.5, random_state=42)\n",
    "\n",
    "# Add a constant term to the explanatory variables for the intercept\n",
    "X_test = sm.add_constant(X_test)\n",
    "X_test_val = sm.add_constant(X_test_val)"
   ]
  },
  {
   "cell_type": "code",
   "execution_count": 24,
   "metadata": {},
   "outputs": [
    {
     "name": "stdout",
     "output_type": "stream",
     "text": [
      "Optimization terminated successfully.\n",
      "         Current function value: 0.349689\n",
      "         Iterations 7\n"
     ]
    }
   ],
   "source": [
    "# Fit a logistic regression model (logit)\n",
    "logit_model = sm.Logit(y_train, X_train)\n",
    "logit_result = logit_model.fit()\n",
    "\n",
    "# Predict on the test set\n",
    "logit_predictions = logit_result.predict(X_test)\n",
    "logit_predictions_binary = np.round(logit_predictions)"
   ]
  },
  {
   "cell_type": "code",
   "execution_count": 17,
   "metadata": {},
   "outputs": [
    {
     "name": "stdout",
     "output_type": "stream",
     "text": [
      "\n",
      "Logit Model Performance:\n",
      "Accuracy: 0.8510406958682821\n",
      "\n",
      "Confusion Matrix:\n",
      " [[19867  1486]\n",
      " [ 2350  2049]]\n"
     ]
    }
   ],
   "source": [
    "# Evaluate logit model performance\n",
    "print(\"\\nLogit Model Performance:\")\n",
    "print(\"Accuracy:\", accuracy_score(y_test, logit_predictions_binary))\n",
    "print(\"\\nConfusion Matrix:\\n\", confusion_matrix(y_test, logit_predictions_binary))\n",
    "#print(\"\\nClassification Report:\\n\", classification_report(y_test, logit_predictions_binary))"
   ]
  },
  {
   "cell_type": "markdown",
   "metadata": {},
   "source": [
    "Tuning - Logit"
   ]
  },
  {
   "cell_type": "code",
   "execution_count": 23,
   "metadata": {},
   "outputs": [
    {
     "name": "stdout",
     "output_type": "stream",
     "text": [
      "Optimization terminated successfully.\n",
      "         Current function value: 0.342647\n",
      "         Iterations 8\n"
     ]
    }
   ],
   "source": [
    "# For tuning employ the test set (20% of data)\n",
    "\n",
    "# Fit a logistic regression model (logit)\n",
    "logit_model_tun = sm.Logit(y_train_val, X_train_val)\n",
    "logit_result_tun = logit_model_tun.fit()\n",
    "\n",
    "# Predict on the test set\n",
    "logit_predictions_tun = logit_result_tun.predict(X_test_val)\n",
    "logit_predictions_binary_tun = np.round(logit_predictions_tun)\n",
    "\n",
    "thresholds = []\n",
    "for i in range(15, 100, 5):\n",
    "    thresholds.append(i/100)\n",
    "\n",
    "accuracy_values = []\n",
    "# Calculate accuracy for each threshold\n",
    "for threshold in thresholds:\n",
    "    y_pred_tun = (logit_predictions_tun >= threshold).astype(int)\n",
    "    accuracy=  accuracy_score(y_test_val, y_pred_tun)*100\n",
    "    accuracy_values.append(accuracy)\n",
    "    #print(f'Threshold: {threshold}, Accuracy: {accuracy:.2f}')"
   ]
  },
  {
   "cell_type": "code",
   "execution_count": 21,
   "metadata": {},
   "outputs": [
    {
     "data": {
      "image/png": "[encoded data removed]",
      "text/plain": [
       "<Figure size 640x480 with 1 Axes>"
      ]
     },
     "metadata": {},
     "output_type": "display_data"
    }
   ],
   "source": [
    "# Plot the line graph\n",
    "plt.plot(thresholds, accuracy_values, color='blue', marker='o')\n",
    "#plt.title('Threshold Tuning')\n",
    "plt.xlabel('Threshold Values')\n",
    "plt.ylabel('Accuracy')\n",
    "plt.grid(axis='y')  # Remove vertical grid lines\n",
    "# Format x-axis ticks to display only 2 decimal places\n",
    "plt.gca().xaxis.set_major_formatter(FuncFormatter(lambda x, _: \"{:.2f}\".format(x)))\n",
    "plt.savefig(f'threshold_tuning.png', bbox_inches='tight')\n",
    "\n",
    "plt.show()"
   ]
  },
  {
   "cell_type": "markdown",
   "metadata": {},
   "source": [
    "Evaluation - Logit"
   ]
  },
  {
   "cell_type": "code",
   "execution_count": 25,
   "metadata": {},
   "outputs": [],
   "source": [
    "df_eval_logit = evaluation(y_test, logit_predictions_binary)"
   ]
  },
  {
   "cell_type": "code",
   "execution_count": 26,
   "metadata": {},
   "outputs": [
    {
     "data": {
      "text/html": [
       "<div>\n",
       "<style scoped>\n",
       "    .dataframe tbody tr th:only-of-type {\n",
       "        vertical-align: middle;\n",
       "    }\n",
       "\n",
       "    .dataframe tbody tr th {\n",
       "        vertical-align: top;\n",
       "    }\n",
       "\n",
       "    .dataframe thead th {\n",
       "        text-align: right;\n",
       "    }\n",
       "</style>\n",
       "<table border=\"1\" class=\"dataframe\">\n",
       "  <thead>\n",
       "    <tr style=\"text-align: right;\">\n",
       "      <th></th>\n",
       "      <th>Value</th>\n",
       "    </tr>\n",
       "  </thead>\n",
       "  <tbody>\n",
       "    <tr>\n",
       "      <th>Accuracy</th>\n",
       "      <td>85.10</td>\n",
       "    </tr>\n",
       "    <tr>\n",
       "      <th>Misclassification Rate</th>\n",
       "      <td>14.90</td>\n",
       "    </tr>\n",
       "    <tr>\n",
       "      <th>Sensitivity</th>\n",
       "      <td>46.58</td>\n",
       "    </tr>\n",
       "    <tr>\n",
       "      <th>Specificity</th>\n",
       "      <td>93.04</td>\n",
       "    </tr>\n",
       "    <tr>\n",
       "      <th>Precision</th>\n",
       "      <td>57.96</td>\n",
       "    </tr>\n",
       "  </tbody>\n",
       "</table>\n",
       "</div>"
      ],
      "text/plain": [
       "                        Value\n",
       "Accuracy                85.10\n",
       "Misclassification Rate  14.90\n",
       "Sensitivity             46.58\n",
       "Specificity             93.04\n",
       "Precision               57.96"
      ]
     },
     "execution_count": 26,
     "metadata": {},
     "output_type": "execute_result"
    }
   ],
   "source": [
    "df_eval_logit"
   ]
  },
  {
   "cell_type": "markdown",
   "metadata": {},
   "source": [
    "Probit Model"
   ]
  },
  {
   "cell_type": "code",
   "execution_count": 27,
   "metadata": {},
   "outputs": [
    {
     "name": "stdout",
     "output_type": "stream",
     "text": [
      "Optimization terminated successfully.\n",
      "         Current function value: 0.348478\n",
      "         Iterations 7\n"
     ]
    }
   ],
   "source": [
    "# Fit a probit regression model\n",
    "probit_model = sm.Probit(y, X)\n",
    "probit_result = probit_model.fit()"
   ]
  },
  {
   "cell_type": "code",
   "execution_count": 28,
   "metadata": {},
   "outputs": [
    {
     "name": "stdout",
     "output_type": "stream",
     "text": [
      "Probit Regression Results:\n",
      "                          Probit Regression Results                           \n",
      "==============================================================================\n",
      "Dep. Variable:           pass_outcome   No. Observations:                64380\n",
      "Model:                         Probit   Df Residuals:                    64370\n",
      "Method:                           MLE   Df Model:                            9\n",
      "Date:                Thu, 04 Apr 2024   Pseudo R-squ.:                  0.2359\n",
      "Time:                        13:14:20   Log-Likelihood:                -22435.\n",
      "converged:                       True   LL-Null:                       -29362.\n",
      "Covariance Type:            nonrobust   LLR p-value:                     0.000\n",
      "=============================================================================================\n",
      "                                coef    std err          z      P>|z|      [0.025      0.975]\n",
      "---------------------------------------------------------------------------------------------\n",
      "const                        -0.6786      0.088     -7.727      0.000      -0.851      -0.506\n",
      "pass_length                  -0.0038      0.001     -7.318      0.000      -0.005      -0.003\n",
      "pass_angle                   -0.0069      0.005     -1.509      0.131      -0.016       0.002\n",
      "pass_height_Ground Pass      -1.7707      0.021    -84.959      0.000      -1.812      -1.730\n",
      "pass_height_Low Pass         -0.5128      0.026    -19.900      0.000      -0.563      -0.462\n",
      "pass_body_part_Drop Kick      1.6496      0.138     11.913      0.000       1.378       1.921\n",
      "pass_body_part_Head           0.7009      0.089      7.892      0.000       0.527       0.875\n",
      "pass_body_part_Left Foot      1.0973      0.086     12.772      0.000       0.929       1.266\n",
      "pass_body_part_No Touch       1.7949      0.178     10.091      0.000       1.446       2.144\n",
      "pass_body_part_Right Foot     1.0196      0.086     11.920      0.000       0.852       1.187\n",
      "=============================================================================================\n"
     ]
    }
   ],
   "source": [
    "print(\"Probit Regression Results:\")\n",
    "print(probit_result.summary())"
   ]
  },
  {
   "cell_type": "markdown",
   "metadata": {},
   "source": [
    "Prediction - Probit"
   ]
  },
  {
   "cell_type": "code",
   "execution_count": 29,
   "metadata": {},
   "outputs": [
    {
     "name": "stdout",
     "output_type": "stream",
     "text": [
      "Optimization terminated successfully.\n",
      "         Current function value: 0.349463\n",
      "         Iterations 6\n"
     ]
    }
   ],
   "source": [
    "# Fit a probit regression model\n",
    "probit_model = sm.Probit(y_train, X_train)\n",
    "probit_result = probit_model.fit()\n",
    "\n",
    "# Predict on the test set\n",
    "probit_predictions = probit_result.predict(X_test)\n",
    "probit_predictions_binary = np.round(probit_predictions)"
   ]
  },
  {
   "cell_type": "code",
   "execution_count": 30,
   "metadata": {},
   "outputs": [
    {
     "name": "stdout",
     "output_type": "stream",
     "text": [
      "Optimization terminated successfully.\n",
      "         Current function value: 0.342656\n",
      "         Iterations 7\n"
     ]
    }
   ],
   "source": [
    "# For tuning employ the test set (20% of data)\n",
    "\n",
    "# Fit a probit regression model (probit)\n",
    "probit_model_tun = sm.Probit(y_train_val, X_train_val)\n",
    "probit_result_tun = probit_model_tun.fit()\n",
    "\n",
    "# Predict on the test set\n",
    "probit_predictions_tun = probit_result_tun.predict(X_test_val)\n",
    "probit_predictions_binary_tun = np.round(probit_predictions_tun)\n",
    "\n",
    "thresholds = []\n",
    "for i in range(15, 100, 5):\n",
    "    thresholds.append(i/100)\n",
    "\n",
    "accuracy_values = []\n",
    "# Calculate accuracy for each threshold\n",
    "for threshold in thresholds:\n",
    "    y_pred_tun = (probit_predictions_tun >= threshold).astype(int)\n",
    "    accuracy=  accuracy_score(y_test_val, y_pred_tun)*100\n",
    "    accuracy_values.append(accuracy)\n",
    "    #print(f'Threshold: {threshold}, Accuracy: {accuracy:.2f}')"
   ]
  },
  {
   "cell_type": "code",
   "execution_count": 31,
   "metadata": {},
   "outputs": [
    {
     "data": {
      "image/png": "[encoded data removed]",
      "text/plain": [
       "<Figure size 640x480 with 1 Axes>"
      ]
     },
     "metadata": {},
     "output_type": "display_data"
    }
   ],
   "source": [
    "plt.plot(thresholds, accuracy_values, color='blue', marker='o')\n",
    "#plt.title('Threshold Tuning')\n",
    "plt.xlabel('Threshold Values')\n",
    "plt.ylabel('Accuracy')\n",
    "plt.grid(axis='y')  # Remove vertical grid lines\n",
    "# Format x-axis ticks to display only 2 decimal places\n",
    "plt.gca().xaxis.set_major_formatter(FuncFormatter(lambda x, _: \"{:.2f}\".format(x)))\n",
    "plt.savefig(f'threshold_tuning.png', bbox_inches='tight')"
   ]
  },
  {
   "cell_type": "code",
   "execution_count": 32,
   "metadata": {},
   "outputs": [
    {
     "name": "stdout",
     "output_type": "stream",
     "text": [
      "Probit Model Performance:\n",
      "Accuracy: 0.8506135445790618\n",
      "\n",
      "Confusion Matrix:\n",
      " [[19872  1481]\n",
      " [ 2366  2033]]\n"
     ]
    }
   ],
   "source": [
    "# Evaluate probit model performance\n",
    "print(\"Probit Model Performance:\")\n",
    "print(\"Accuracy:\", accuracy_score(y_test, probit_predictions_binary))\n",
    "print(\"\\nConfusion Matrix:\\n\", confusion_matrix(y_test, probit_predictions_binary))\n",
    "#print(\"\\nClassification Report:\\n\", classification_report(y_test, probit_predictions_binary))\n"
   ]
  },
  {
   "cell_type": "code",
   "execution_count": 33,
   "metadata": {},
   "outputs": [],
   "source": [
    "df_eval_probit = evaluation(y_test, probit_predictions_binary)"
   ]
  },
  {
   "cell_type": "code",
   "execution_count": 34,
   "metadata": {},
   "outputs": [
    {
     "data": {
      "text/html": [
       "<div>\n",
       "<style scoped>\n",
       "    .dataframe tbody tr th:only-of-type {\n",
       "        vertical-align: middle;\n",
       "    }\n",
       "\n",
       "    .dataframe tbody tr th {\n",
       "        vertical-align: top;\n",
       "    }\n",
       "\n",
       "    .dataframe thead th {\n",
       "        text-align: right;\n",
       "    }\n",
       "</style>\n",
       "<table border=\"1\" class=\"dataframe\">\n",
       "  <thead>\n",
       "    <tr style=\"text-align: right;\">\n",
       "      <th></th>\n",
       "      <th>Value</th>\n",
       "      <th>values_probit</th>\n",
       "    </tr>\n",
       "  </thead>\n",
       "  <tbody>\n",
       "    <tr>\n",
       "      <th>Accuracy</th>\n",
       "      <td>85.10</td>\n",
       "      <td>85.06</td>\n",
       "    </tr>\n",
       "    <tr>\n",
       "      <th>Misclassification Rate</th>\n",
       "      <td>14.90</td>\n",
       "      <td>14.94</td>\n",
       "    </tr>\n",
       "    <tr>\n",
       "      <th>Sensitivity</th>\n",
       "      <td>46.58</td>\n",
       "      <td>46.22</td>\n",
       "    </tr>\n",
       "    <tr>\n",
       "      <th>Specificity</th>\n",
       "      <td>93.04</td>\n",
       "      <td>93.06</td>\n",
       "    </tr>\n",
       "    <tr>\n",
       "      <th>Precision</th>\n",
       "      <td>57.96</td>\n",
       "      <td>57.85</td>\n",
       "    </tr>\n",
       "  </tbody>\n",
       "</table>\n",
       "</div>"
      ],
      "text/plain": [
       "                        Value values_probit\n",
       "Accuracy                85.10         85.06\n",
       "Misclassification Rate  14.90         14.94\n",
       "Sensitivity             46.58         46.22\n",
       "Specificity             93.04         93.06\n",
       "Precision               57.96         57.85"
      ]
     },
     "execution_count": 34,
     "metadata": {},
     "output_type": "execute_result"
    }
   ],
   "source": [
    "df_eval_logit['values_probit'] = df_eval_probit['Value']\n",
    "df_eval_logit"
   ]
  }
 ],
 "metadata": {
  "kernelspec": {
   "display_name": "Python 3",
   "language": "python",
   "name": "python3"
  },
  "language_info": {
   "codemirror_mode": {
    "name": "ipython",
    "version": 3
   },
   "file_extension": ".py",
   "mimetype": "text/x-python",
   "name": "python",
   "nbconvert_exporter": "python",
   "pygments_lexer": "ipython3",
   "version": "3.10.6"
  }
 },
 "nbformat": 4,
 "nbformat_minor": 2
}
